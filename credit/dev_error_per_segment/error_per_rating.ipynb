{
 "cells": [
  {
   "cell_type": "code",
   "execution_count": 36,
   "metadata": {},
   "outputs": [
    {
     "data": {
      "application/vnd.microsoft.datawrangler.viewer.v0+json": {
       "columns": [
        {
         "name": "index",
         "rawType": "int64",
         "type": "integer"
        },
        {
         "name": "risk_score",
         "rawType": "object",
         "type": "unknown"
        },
        {
         "name": "p_default",
         "rawType": "object",
         "type": "unknown"
        },
        {
         "name": "ratings",
         "rawType": "object",
         "type": "string"
        }
       ],
       "conversionMethod": "pd.DataFrame",
       "ref": "5abb2505-831b-48dd-8ff6-3af2df8d904b",
       "rows": [
        [
         "0",
         "1.2033569485092599e-05",
         "0",
         "A"
        ],
        [
         "1",
         "0.001573158600998159",
         "0",
         "A"
        ],
        [
         "2",
         "0.005121589598552689",
         "0",
         "A"
        ],
        [
         "3",
         "0.008715732303784862",
         "0",
         "A"
        ],
        [
         "4",
         "0.009412770080969413",
         "0",
         "A"
        ],
        [
         "5",
         "0.00984544079968852",
         "0",
         "A"
        ],
        [
         "6",
         "0.013200625564899537",
         "0",
         "A"
        ],
        [
         "7",
         "0.01478673530954211",
         "0",
         "A"
        ],
        [
         "8",
         "0.01615903613308811",
         "0",
         "A"
        ],
        [
         "9",
         "0.021397673413144136",
         "0",
         "A"
        ],
        [
         "10",
         "0.024158957115163582",
         "0",
         "A"
        ],
        [
         "11",
         "0.02909409645982286",
         "0",
         "A"
        ],
        [
         "12",
         "0.03074675838642149",
         "0",
         "A"
        ],
        [
         "13",
         "0.03190366643989473",
         "0",
         "A"
        ],
        [
         "14",
         "0.03382173104378916",
         "0",
         "A"
        ],
        [
         "15",
         "0.035036524101437316",
         "0",
         "A"
        ],
        [
         "16",
         "0.04180861912122957",
         "0",
         "A"
        ],
        [
         "17",
         "0.04307662809459589",
         "0",
         "A"
        ],
        [
         "18",
         "0.04553264565460491",
         "0",
         "A"
        ],
        [
         "19",
         "0.04798022560182991",
         "1",
         "A"
        ],
        [
         "20",
         "0.05286620198352476",
         "0",
         "A"
        ],
        [
         "21",
         "0.05564220864270886",
         "0",
         "A"
        ],
        [
         "22",
         "0.056852855598646945",
         "0",
         "A"
        ],
        [
         "23",
         "0.058512491882074746",
         "0",
         "A"
        ],
        [
         "24",
         "0.05984421036917731",
         "0",
         "A"
        ],
        [
         "25",
         "0.06325138074870928",
         "1",
         "A"
        ],
        [
         "26",
         "0.06508453704251449",
         "0",
         "A"
        ],
        [
         "27",
         "0.06759889360357696",
         "0",
         "A"
        ],
        [
         "28",
         "0.0679174967944145",
         "0",
         "A"
        ],
        [
         "29",
         "0.06912932506394953",
         "0",
         "A"
        ],
        [
         "30",
         "0.070021245433038",
         "0",
         "A"
        ],
        [
         "31",
         "0.07107351246240812",
         "0",
         "A"
        ],
        [
         "32",
         "0.07142513371862946",
         "0",
         "A"
        ],
        [
         "33",
         "0.07273721088434781",
         "0",
         "A"
        ],
        [
         "34",
         "0.07364112750960905",
         "0",
         "A"
        ],
        [
         "35",
         "0.07571744617226672",
         "0",
         "A"
        ],
        [
         "36",
         "0.07972011775621979",
         "0",
         "A"
        ],
        [
         "37",
         "0.08165793637092456",
         "0",
         "A"
        ],
        [
         "38",
         "0.08190006001834516",
         "0",
         "A"
        ],
        [
         "39",
         "0.08285801012063598",
         "0",
         "A"
        ],
        [
         "40",
         "0.08825354002927399",
         "0",
         "A"
        ],
        [
         "41",
         "0.09284603190663265",
         "0",
         "A"
        ],
        [
         "42",
         "0.0932686731653416",
         "1",
         "A"
        ],
        [
         "43",
         "0.09851907591702669",
         "0",
         "A"
        ],
        [
         "44",
         "0.09875321920491842",
         "0",
         "A"
        ],
        [
         "45",
         "0.09936765398837333",
         "0",
         "A"
        ],
        [
         "46",
         "0.1029163661719199",
         "0",
         "A"
        ],
        [
         "47",
         "0.1050294917167729",
         "0",
         "A"
        ],
        [
         "48",
         "0.10677999399370885",
         "0",
         "A"
        ],
        [
         "49",
         "0.10930490807954563",
         "0",
         "A"
        ]
       ],
       "shape": {
        "columns": 3,
        "rows": 400
       }
      },
      "text/html": [
       "<div>\n",
       "<style scoped>\n",
       "    .dataframe tbody tr th:only-of-type {\n",
       "        vertical-align: middle;\n",
       "    }\n",
       "\n",
       "    .dataframe tbody tr th {\n",
       "        vertical-align: top;\n",
       "    }\n",
       "\n",
       "    .dataframe thead th {\n",
       "        text-align: right;\n",
       "    }\n",
       "</style>\n",
       "<table border=\"1\" class=\"dataframe\">\n",
       "  <thead>\n",
       "    <tr style=\"text-align: right;\">\n",
       "      <th></th>\n",
       "      <th>risk_score</th>\n",
       "      <th>p_default</th>\n",
       "      <th>ratings</th>\n",
       "    </tr>\n",
       "  </thead>\n",
       "  <tbody>\n",
       "    <tr>\n",
       "      <th>0</th>\n",
       "      <td>0.000012</td>\n",
       "      <td>0</td>\n",
       "      <td>A</td>\n",
       "    </tr>\n",
       "    <tr>\n",
       "      <th>1</th>\n",
       "      <td>0.001573</td>\n",
       "      <td>0</td>\n",
       "      <td>A</td>\n",
       "    </tr>\n",
       "    <tr>\n",
       "      <th>2</th>\n",
       "      <td>0.005122</td>\n",
       "      <td>0</td>\n",
       "      <td>A</td>\n",
       "    </tr>\n",
       "    <tr>\n",
       "      <th>3</th>\n",
       "      <td>0.008716</td>\n",
       "      <td>0</td>\n",
       "      <td>A</td>\n",
       "    </tr>\n",
       "    <tr>\n",
       "      <th>4</th>\n",
       "      <td>0.009413</td>\n",
       "      <td>0</td>\n",
       "      <td>A</td>\n",
       "    </tr>\n",
       "    <tr>\n",
       "      <th>...</th>\n",
       "      <td>...</td>\n",
       "      <td>...</td>\n",
       "      <td>...</td>\n",
       "    </tr>\n",
       "    <tr>\n",
       "      <th>395</th>\n",
       "      <td>0.984938</td>\n",
       "      <td>1</td>\n",
       "      <td>E</td>\n",
       "    </tr>\n",
       "    <tr>\n",
       "      <th>396</th>\n",
       "      <td>0.98918</td>\n",
       "      <td>1</td>\n",
       "      <td>E</td>\n",
       "    </tr>\n",
       "    <tr>\n",
       "      <th>397</th>\n",
       "      <td>0.991371</td>\n",
       "      <td>1</td>\n",
       "      <td>E</td>\n",
       "    </tr>\n",
       "    <tr>\n",
       "      <th>398</th>\n",
       "      <td>0.994132</td>\n",
       "      <td>1</td>\n",
       "      <td>E</td>\n",
       "    </tr>\n",
       "    <tr>\n",
       "      <th>399</th>\n",
       "      <td>0.994239</td>\n",
       "      <td>1</td>\n",
       "      <td>E</td>\n",
       "    </tr>\n",
       "  </tbody>\n",
       "</table>\n",
       "<p>400 rows × 3 columns</p>\n",
       "</div>"
      ],
      "text/plain": [
       "    risk_score p_default ratings\n",
       "0     0.000012         0       A\n",
       "1     0.001573         0       A\n",
       "2     0.005122         0       A\n",
       "3     0.008716         0       A\n",
       "4     0.009413         0       A\n",
       "..         ...       ...     ...\n",
       "395   0.984938         1       E\n",
       "396    0.98918         1       E\n",
       "397   0.991371         1       E\n",
       "398   0.994132         1       E\n",
       "399   0.994239         1       E\n",
       "\n",
       "[400 rows x 3 columns]"
      ]
     },
     "execution_count": 36,
     "metadata": {},
     "output_type": "execute_result"
    }
   ],
   "source": [
    "import numpy as np\n",
    "import pandas as pd\n",
    "np.random.seed(13)\n",
    "\n",
    "data = np.sort(np.random.uniform(0, 1, 400))\n",
    "p_default = [1 if d > np.random.rand() else 0  for d in data]\n",
    "ratings = pd.cut(data, bins=5, labels=[\"A\", \"B\", \"C\", \"D\", \"E\"])  \n",
    "\n",
    "data = pd.DataFrame(\n",
    "    [data, p_default, ratings],\n",
    "    index=[\"risk_score\", \"p_default\", \"ratings\"]\n",
    ").T\n",
    "\n",
    "data"
   ]
  },
  {
   "cell_type": "code",
   "execution_count": 37,
   "metadata": {},
   "outputs": [
    {
     "data": {
      "application/vnd.microsoft.datawrangler.viewer.v0+json": {
       "columns": [
        {
         "name": "ratings",
         "rawType": "object",
         "type": "string"
        },
        {
         "name": "count_loans",
         "rawType": "int64",
         "type": "integer"
        },
        {
         "name": "avg_risk_score",
         "rawType": "object",
         "type": "unknown"
        },
        {
         "name": "avg_p_default",
         "rawType": "object",
         "type": "unknown"
        }
       ],
       "conversionMethod": "pd.DataFrame",
       "ref": "aaad24d7-8928-4a81-bf83-939190beb1fd",
       "rows": [
        [
         "A",
         "96",
         "0.10273087550022125",
         "0.11458333333333333"
        ],
        [
         "B",
         "94",
         "0.28659391424680375",
         "0.2765957446808511"
        ],
        [
         "C",
         "58",
         "0.5054470947990799",
         "0.4827586206896552"
        ],
        [
         "D",
         "73",
         "0.6990320071180135",
         "0.7808219178082192"
        ],
        [
         "E",
         "79",
         "0.8967112859520651",
         "0.9493670886075949"
        ]
       ],
       "shape": {
        "columns": 3,
        "rows": 5
       }
      },
      "text/html": [
       "<div>\n",
       "<style scoped>\n",
       "    .dataframe tbody tr th:only-of-type {\n",
       "        vertical-align: middle;\n",
       "    }\n",
       "\n",
       "    .dataframe tbody tr th {\n",
       "        vertical-align: top;\n",
       "    }\n",
       "\n",
       "    .dataframe thead th {\n",
       "        text-align: right;\n",
       "    }\n",
       "</style>\n",
       "<table border=\"1\" class=\"dataframe\">\n",
       "  <thead>\n",
       "    <tr style=\"text-align: right;\">\n",
       "      <th></th>\n",
       "      <th>count_loans</th>\n",
       "      <th>avg_risk_score</th>\n",
       "      <th>avg_p_default</th>\n",
       "    </tr>\n",
       "    <tr>\n",
       "      <th>ratings</th>\n",
       "      <th></th>\n",
       "      <th></th>\n",
       "      <th></th>\n",
       "    </tr>\n",
       "  </thead>\n",
       "  <tbody>\n",
       "    <tr>\n",
       "      <th>A</th>\n",
       "      <td>96</td>\n",
       "      <td>0.102731</td>\n",
       "      <td>0.114583</td>\n",
       "    </tr>\n",
       "    <tr>\n",
       "      <th>B</th>\n",
       "      <td>94</td>\n",
       "      <td>0.286594</td>\n",
       "      <td>0.276596</td>\n",
       "    </tr>\n",
       "    <tr>\n",
       "      <th>C</th>\n",
       "      <td>58</td>\n",
       "      <td>0.505447</td>\n",
       "      <td>0.482759</td>\n",
       "    </tr>\n",
       "    <tr>\n",
       "      <th>D</th>\n",
       "      <td>73</td>\n",
       "      <td>0.699032</td>\n",
       "      <td>0.780822</td>\n",
       "    </tr>\n",
       "    <tr>\n",
       "      <th>E</th>\n",
       "      <td>79</td>\n",
       "      <td>0.896711</td>\n",
       "      <td>0.949367</td>\n",
       "    </tr>\n",
       "  </tbody>\n",
       "</table>\n",
       "</div>"
      ],
      "text/plain": [
       "         count_loans avg_risk_score avg_p_default\n",
       "ratings                                          \n",
       "A                 96       0.102731      0.114583\n",
       "B                 94       0.286594      0.276596\n",
       "C                 58       0.505447      0.482759\n",
       "D                 73       0.699032      0.780822\n",
       "E                 79       0.896711      0.949367"
      ]
     },
     "execution_count": 37,
     "metadata": {},
     "output_type": "execute_result"
    }
   ],
   "source": [
    "data.groupby(\"ratings\").agg(count_loans = (\"ratings\", \"count\"), avg_risk_score = (\"risk_score\", \"mean\"), avg_p_default = (\"p_default\", \"mean\"))"
   ]
  },
  {
   "cell_type": "code",
   "execution_count": 50,
   "metadata": {},
   "outputs": [
    {
     "name": "stdout",
     "output_type": "stream",
     "text": [
      "Bootstrap - 95% confidence interval for the mean of rating A: (0.0521, 0.1875)\n",
      "Bernoulli - 95% confidence interval for the mean of rating A: (0.0509, 0.1783)\n",
      "==================================================\n",
      "Bootstrap - 95% confidence interval for the mean of rating B: (0.1915, 0.3723)\n",
      "Bernoulli - 95% confidence interval for the mean of rating B: (0.1862, 0.3670)\n",
      "==================================================\n",
      "Bootstrap - 95% confidence interval for the mean of rating C: (0.3621, 0.6034)\n",
      "Bernoulli - 95% confidence interval for the mean of rating C: (0.3542, 0.6114)\n",
      "==================================================\n",
      "Bootstrap - 95% confidence interval for the mean of rating D: (0.6849, 0.8767)\n",
      "Bernoulli - 95% confidence interval for the mean of rating D: (0.6859, 0.8757)\n",
      "==================================================\n",
      "Bootstrap - 95% confidence interval for the mean of rating E: (0.8987, 0.9873)\n",
      "Bernoulli - 95% confidence interval for the mean of rating E: (0.9010, 0.9977)\n",
      "==================================================\n"
     ]
    }
   ],
   "source": [
    "def bootstrap_confidence_interval(data, num_bootstrap_samples=50, confidence_level=0.95):\n",
    "    \"\"\"\n",
    "    Generate bootstrap confidence intervals for the mean of the data.\n",
    "\n",
    "    Parameters:\n",
    "    data (array-like): The data to bootstrap.\n",
    "    num_bootstrap_samples (int): The number of bootstrap samples to generate.\n",
    "    confidence_level (float): The confidence level for the interval.\n",
    "\n",
    "    Returns:\n",
    "    tuple: Lower and upper bounds of the confidence interval.\n",
    "    \"\"\"\n",
    "    bootstrap_means = []\n",
    "    n = len(data)\n",
    "    \n",
    "    if confidence_level != 0.95:\n",
    "        raise NotImplementedError(\"Please no... only 95% confidence intervals are supported.\")\n",
    "    \n",
    "    for _ in range(num_bootstrap_samples):\n",
    "        # sample with reposition\n",
    "        bootstrap_sample = np.random.choice(data, size=n, replace=True)\n",
    "        bootstrap_means.append(np.mean(bootstrap_sample))\n",
    "    \n",
    "    lower_bound = np.percentile(bootstrap_means, (1 - confidence_level) / 2 * 100)\n",
    "    upper_bound = np.percentile(bootstrap_means, (1 + confidence_level) / 2 * 100)\n",
    "    \n",
    "    return lower_bound, upper_bound\n",
    "\n",
    "\n",
    "for rating in [\"A\", \"B\", \"C\", \"D\", \"E\"]:\n",
    "    data_array = data[data['ratings'] == rating]['p_default'].astype(int)\n",
    "    lower, upper = bootstrap_confidence_interval(data_array, num_bootstrap_samples=2500)\n",
    "    \n",
    "    mi = np.mean(data_array)\n",
    "    # let's  \n",
    "    lower_stat = mi - 1.96 * np.sqrt((mi*(1-mi)) / len(data_array))\n",
    "    upper_stat = mi + 1.96 * np.sqrt((mi*(1-mi)) / len(data_array))\n",
    "\n",
    "    print(f\"Bootstrap - 95% confidence interval for the mean of rating {rating}: ({lower:.4f}, {upper:.4f})\")\n",
    "    print(f\"Bernoulli - 95% confidence interval for the mean of rating {rating}: ({lower_stat:.4f}, {upper_stat:.4f})\")\n",
    "    print('='*50)\n"
   ]
  }
 ],
 "metadata": {
  "kernelspec": {
   "display_name": "venv",
   "language": "python",
   "name": "python3"
  },
  "language_info": {
   "codemirror_mode": {
    "name": "ipython",
    "version": 3
   },
   "file_extension": ".py",
   "mimetype": "text/x-python",
   "name": "python",
   "nbconvert_exporter": "python",
   "pygments_lexer": "ipython3",
   "version": "3.12.2"
  }
 },
 "nbformat": 4,
 "nbformat_minor": 2
}
