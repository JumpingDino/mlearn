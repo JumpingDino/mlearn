{
 "cells": [
  {
   "cell_type": "code",
   "execution_count": 3,
   "metadata": {},
   "outputs": [
    {
     "name": "stdout",
     "output_type": "stream",
     "text": [
      "Requirement already satisfied: featuretools[complete] in /Users/r.de.9/mlearn/venv/lib/python3.12/site-packages (1.31.0)\n",
      "Requirement already satisfied: cloudpickle>=1.5.0 in /Users/r.de.9/mlearn/venv/lib/python3.12/site-packages (from featuretools[complete]) (3.0.0)\n",
      "Requirement already satisfied: holidays>=0.17 in /Users/r.de.9/mlearn/venv/lib/python3.12/site-packages (from featuretools[complete]) (0.53)\n",
      "Requirement already satisfied: numpy>=1.25.0 in /Users/r.de.9/mlearn/venv/lib/python3.12/site-packages (from featuretools[complete]) (1.26.4)\n",
      "Requirement already satisfied: packaging>=20.0 in /Users/r.de.9/mlearn/venv/lib/python3.12/site-packages (from featuretools[complete]) (24.0)\n",
      "Requirement already satisfied: pandas>=2.0.0 in /Users/r.de.9/mlearn/venv/lib/python3.12/site-packages (from featuretools[complete]) (2.2.2)\n",
      "Requirement already satisfied: psutil>=5.7.0 in /Users/r.de.9/mlearn/venv/lib/python3.12/site-packages (from featuretools[complete]) (5.9.8)\n",
      "Requirement already satisfied: scipy>=1.10.0 in /Users/r.de.9/mlearn/venv/lib/python3.12/site-packages (from featuretools[complete]) (1.13.0)\n",
      "Requirement already satisfied: tqdm>=4.66.3 in /Users/r.de.9/mlearn/venv/lib/python3.12/site-packages (from featuretools[complete]) (4.66.4)\n",
      "Requirement already satisfied: woodwork>=0.28.0 in /Users/r.de.9/mlearn/venv/lib/python3.12/site-packages (from featuretools[complete]) (0.31.0)\n",
      "Requirement already satisfied: python-dateutil in /Users/r.de.9/mlearn/venv/lib/python3.12/site-packages (from holidays>=0.17->featuretools[complete]) (2.9.0.post0)\n",
      "Requirement already satisfied: pytz>=2020.1 in /Users/r.de.9/mlearn/venv/lib/python3.12/site-packages (from pandas>=2.0.0->featuretools[complete]) (2024.1)\n",
      "Requirement already satisfied: tzdata>=2022.7 in /Users/r.de.9/mlearn/venv/lib/python3.12/site-packages (from pandas>=2.0.0->featuretools[complete]) (2024.1)\n",
      "Requirement already satisfied: scikit-learn>=1.1.0 in /Users/r.de.9/mlearn/venv/lib/python3.12/site-packages (from woodwork>=0.28.0->featuretools[complete]) (1.4.2)\n",
      "Requirement already satisfied: importlib-resources>=5.10.0 in /Users/r.de.9/mlearn/venv/lib/python3.12/site-packages (from woodwork>=0.28.0->featuretools[complete]) (6.4.0)\n",
      "Collecting dask>=2023.2.0 (from dask[dataframe]>=2023.2.0; extra == \"dask\"->featuretools[complete])\n",
      "  Downloading dask-2024.7.1-py3-none-any.whl.metadata (3.8 kB)\n",
      "Collecting distributed>=2023.2.0 (from featuretools[complete])\n",
      "  Downloading distributed-2024.7.1-py3-none-any.whl.metadata (3.4 kB)\n",
      "Collecting nlp-primitives>=2.12.0 (from featuretools[complete])\n",
      "  Downloading nlp_primitives-2.13.0-py3-none-any.whl.metadata (7.4 kB)\n",
      "Collecting premium-primitives>=0.0.3 (from featuretools[complete])\n",
      "  Downloading premium_primitives-0.1.0-py3-none-any.whl.metadata (4.5 kB)\n",
      "Collecting click>=8.1 (from dask>=2023.2.0->dask[dataframe]>=2023.2.0; extra == \"dask\"->featuretools[complete])\n",
      "  Using cached click-8.1.7-py3-none-any.whl.metadata (3.0 kB)\n",
      "Collecting fsspec>=2021.09.0 (from dask>=2023.2.0->dask[dataframe]>=2023.2.0; extra == \"dask\"->featuretools[complete])\n",
      "  Using cached fsspec-2024.6.1-py3-none-any.whl.metadata (11 kB)\n",
      "Collecting partd>=1.4.0 (from dask>=2023.2.0->dask[dataframe]>=2023.2.0; extra == \"dask\"->featuretools[complete])\n",
      "  Downloading partd-1.4.2-py3-none-any.whl.metadata (4.6 kB)\n",
      "Collecting pyyaml>=5.3.1 (from dask>=2023.2.0->dask[dataframe]>=2023.2.0; extra == \"dask\"->featuretools[complete])\n",
      "  Downloading PyYAML-6.0.1-cp312-cp312-macosx_10_9_x86_64.whl.metadata (2.1 kB)\n",
      "Collecting toolz>=0.10.0 (from dask>=2023.2.0->dask[dataframe]>=2023.2.0; extra == \"dask\"->featuretools[complete])\n",
      "  Using cached toolz-0.12.1-py3-none-any.whl.metadata (5.1 kB)\n",
      "Collecting dask-expr<1.2,>=1.1 (from dask[dataframe]>=2023.2.0; extra == \"dask\"->featuretools[complete])\n",
      "  Downloading dask_expr-1.1.9-py3-none-any.whl.metadata (2.5 kB)\n",
      "Collecting jinja2>=2.10.3 (from distributed>=2023.2.0->featuretools[complete])\n",
      "  Using cached jinja2-3.1.4-py3-none-any.whl.metadata (2.6 kB)\n",
      "Collecting locket>=1.0.0 (from distributed>=2023.2.0->featuretools[complete])\n",
      "  Downloading locket-1.0.0-py2.py3-none-any.whl.metadata (2.8 kB)\n",
      "Collecting msgpack>=1.0.0 (from distributed>=2023.2.0->featuretools[complete])\n",
      "  Downloading msgpack-1.0.8-cp312-cp312-macosx_10_9_x86_64.whl.metadata (9.1 kB)\n",
      "Collecting sortedcontainers>=2.0.5 (from distributed>=2023.2.0->featuretools[complete])\n",
      "  Downloading sortedcontainers-2.4.0-py2.py3-none-any.whl.metadata (10 kB)\n",
      "Collecting tblib>=1.6.0 (from distributed>=2023.2.0->featuretools[complete])\n",
      "  Downloading tblib-3.0.0-py3-none-any.whl.metadata (25 kB)\n",
      "Requirement already satisfied: tornado>=6.0.4 in /Users/r.de.9/mlearn/venv/lib/python3.12/site-packages (from distributed>=2023.2.0->featuretools[complete]) (6.4)\n",
      "Requirement already satisfied: urllib3>=1.24.3 in /Users/r.de.9/mlearn/venv/lib/python3.12/site-packages (from distributed>=2023.2.0->featuretools[complete]) (2.2.1)\n",
      "Collecting zict>=3.0.0 (from distributed>=2023.2.0->featuretools[complete])\n",
      "  Downloading zict-3.0.0-py2.py3-none-any.whl.metadata (899 bytes)\n",
      "Collecting nltk>=3.4.5 (from nlp-primitives>=2.12.0->featuretools[complete])\n",
      "  Downloading nltk-3.8.1-py3-none-any.whl.metadata (2.8 kB)\n",
      "Collecting phone-iso3166>=0.3 (from premium-primitives>=0.0.3->featuretools[complete])\n",
      "  Downloading phone_iso3166-0.4.1-py3-none-any.whl.metadata (3.9 kB)\n",
      "Collecting phonenumbers>=8.10.6 (from premium-primitives>=0.0.3->featuretools[complete])\n",
      "  Downloading phonenumbers-8.13.40-py2.py3-none-any.whl.metadata (11 kB)\n",
      "Collecting reverse-geocoder>=1.5.1 (from premium-primitives>=0.0.3->featuretools[complete])\n",
      "  Downloading reverse_geocoder-1.5.1.tar.gz (2.2 MB)\n",
      "\u001b[2K     \u001b[90m━━━━━━━━━━━━━━━━━━━━━━━━━━━━━━━━━━━━━━━━\u001b[0m \u001b[32m2.2/2.2 MB\u001b[0m \u001b[31m17.4 MB/s\u001b[0m eta \u001b[36m0:00:00\u001b[0m00:01\u001b[0m00:01\u001b[0m\n",
      "\u001b[?25h  Installing build dependencies ... \u001b[?25ldone\n",
      "\u001b[?25h  Getting requirements to build wheel ... \u001b[?25ldone\n",
      "\u001b[?25h  Installing backend dependencies ... \u001b[?25ldone\n",
      "\u001b[?25h  Preparing metadata (pyproject.toml) ... \u001b[?25ldone\n",
      "\u001b[?25hCollecting zipcodes>=1.0.5 (from premium-primitives>=0.0.3->featuretools[complete])\n",
      "  Downloading zipcodes-1.2.0-py2.py3-none-any.whl.metadata (7.4 kB)\n",
      "Requirement already satisfied: six>=1.5 in /Users/r.de.9/mlearn/venv/lib/python3.12/site-packages (from python-dateutil->holidays>=0.17->featuretools[complete]) (1.16.0)\n",
      "Requirement already satisfied: joblib>=1.2.0 in /Users/r.de.9/mlearn/venv/lib/python3.12/site-packages (from scikit-learn>=1.1.0->woodwork>=0.28.0->featuretools[complete]) (1.4.0)\n",
      "Requirement already satisfied: threadpoolctl>=2.0.0 in /Users/r.de.9/mlearn/venv/lib/python3.12/site-packages (from scikit-learn>=1.1.0->woodwork>=0.28.0->featuretools[complete]) (3.4.0)\n",
      "Collecting pyarrow>=7.0.0 (from dask-expr<1.2,>=1.1->dask[dataframe]>=2023.2.0; extra == \"dask\"->featuretools[complete])\n",
      "  Downloading pyarrow-17.0.0-cp312-cp312-macosx_10_15_x86_64.whl.metadata (3.3 kB)\n",
      "Collecting MarkupSafe>=2.0 (from jinja2>=2.10.3->distributed>=2023.2.0->featuretools[complete])\n",
      "  Downloading MarkupSafe-2.1.5-cp312-cp312-macosx_10_9_x86_64.whl.metadata (3.0 kB)\n",
      "Collecting regex>=2021.8.3 (from nltk>=3.4.5->nlp-primitives>=2.12.0->featuretools[complete])\n",
      "  Downloading regex-2024.5.15-cp312-cp312-macosx_10_9_x86_64.whl.metadata (40 kB)\n",
      "\u001b[2K     \u001b[90m━━━━━━━━━━━━━━━━━━━━━━━━━━━━━━━━━━━━━━━\u001b[0m \u001b[32m40.9/40.9 kB\u001b[0m \u001b[31m321.3 kB/s\u001b[0m eta \u001b[36m0:00:00\u001b[0m\n",
      "\u001b[?25hDownloading dask-2024.7.1-py3-none-any.whl (1.2 MB)\n",
      "\u001b[2K   \u001b[90m━━━━━━━━━━━━━━━━━━━━━━━━━━━━━━━━━━━━━━━━\u001b[0m \u001b[32m1.2/1.2 MB\u001b[0m \u001b[31m28.2 MB/s\u001b[0m eta \u001b[36m0:00:00\u001b[0m00:01\u001b[0m\n",
      "\u001b[?25hDownloading distributed-2024.7.1-py3-none-any.whl (1.0 MB)\n",
      "\u001b[2K   \u001b[90m━━━━━━━━━━━━━━━━━━━━━━━━━━━━━━━━━━━━━━━━\u001b[0m \u001b[32m1.0/1.0 MB\u001b[0m \u001b[31m24.6 MB/s\u001b[0m eta \u001b[36m0:00:00\u001b[0m00:01\u001b[0m\n",
      "\u001b[?25hDownloading nlp_primitives-2.13.0-py3-none-any.whl (44.7 MB)\n",
      "\u001b[2K   \u001b[90m━━━━━━━━━━━━━━━━━━━━━━━━━━━━━━━━━━━━━━━━\u001b[0m \u001b[32m44.7/44.7 MB\u001b[0m \u001b[31m21.7 MB/s\u001b[0m eta \u001b[36m0:00:00\u001b[0m00:01\u001b[0m00:01\u001b[0m\n",
      "\u001b[?25hDownloading premium_primitives-0.1.0-py3-none-any.whl (72.6 MB)\n",
      "\u001b[2K   \u001b[90m━━━━━━━━━━━━━━━━━━━━━━━━━━━━━━━━━━━━━━━━\u001b[0m \u001b[32m72.6/72.6 MB\u001b[0m \u001b[31m11.2 MB/s\u001b[0m eta \u001b[36m0:00:00\u001b[0m00:01\u001b[0m00:01\u001b[0m\n",
      "\u001b[?25hUsing cached click-8.1.7-py3-none-any.whl (97 kB)\n",
      "Downloading dask_expr-1.1.9-py3-none-any.whl (241 kB)\n",
      "\u001b[2K   \u001b[90m━━━━━━━━━━━━━━━━━━━━━━━━━━━━━━━━━━━━━━━━\u001b[0m \u001b[32m241.9/241.9 kB\u001b[0m \u001b[31m7.1 MB/s\u001b[0m eta \u001b[36m0:00:00\u001b[0m\n",
      "\u001b[?25hUsing cached fsspec-2024.6.1-py3-none-any.whl (177 kB)\n",
      "Using cached jinja2-3.1.4-py3-none-any.whl (133 kB)\n",
      "Downloading locket-1.0.0-py2.py3-none-any.whl (4.4 kB)\n",
      "Downloading msgpack-1.0.8-cp312-cp312-macosx_10_9_x86_64.whl (88 kB)\n",
      "\u001b[2K   \u001b[90m━━━━━━━━━━━━━━━━━━━━━━━━━━━━━━━━━━━━━━━━\u001b[0m \u001b[32m88.7/88.7 kB\u001b[0m \u001b[31m3.2 MB/s\u001b[0m eta \u001b[36m0:00:00\u001b[0m\n",
      "\u001b[?25hDownloading nltk-3.8.1-py3-none-any.whl (1.5 MB)\n",
      "\u001b[2K   \u001b[90m━━━━━━━━━━━━━━━━━━━━━━━━━━━━━━━━━━━━━━━━\u001b[0m \u001b[32m1.5/1.5 MB\u001b[0m \u001b[31m18.7 MB/s\u001b[0m eta \u001b[36m0:00:00\u001b[0m00:01\u001b[0m0:01\u001b[0m\n",
      "\u001b[?25hDownloading partd-1.4.2-py3-none-any.whl (18 kB)\n",
      "Downloading phone_iso3166-0.4.1-py3-none-any.whl (45 kB)\n",
      "\u001b[2K   \u001b[90m━━━━━━━━━━━━━━━━━━━━━━━━━━━━━━━━━━━━━━━━\u001b[0m \u001b[32m45.6/45.6 kB\u001b[0m \u001b[31m793.2 kB/s\u001b[0m eta \u001b[36m0:00:00\u001b[0m \u001b[36m0:00:01\u001b[0m\n",
      "\u001b[?25hDownloading phonenumbers-8.13.40-py2.py3-none-any.whl (2.6 MB)\n",
      "\u001b[2K   \u001b[90m━━━━━━━━━━━━━━━━━━━━━━━━━━━━━━━━━━━━━━━━\u001b[0m \u001b[32m2.6/2.6 MB\u001b[0m \u001b[31m23.2 MB/s\u001b[0m eta \u001b[36m0:00:00\u001b[0m00:01\u001b[0m00:01\u001b[0m\n",
      "\u001b[?25hDownloading PyYAML-6.0.1-cp312-cp312-macosx_10_9_x86_64.whl (178 kB)\n",
      "\u001b[2K   \u001b[90m━━━━━━━━━━━━━━━━━━━━━━━━━━━━━━━━━━━━━━━━\u001b[0m \u001b[32m178.7/178.7 kB\u001b[0m \u001b[31m6.2 MB/s\u001b[0m eta \u001b[36m0:00:00\u001b[0m\n",
      "\u001b[?25hDownloading sortedcontainers-2.4.0-py2.py3-none-any.whl (29 kB)\n",
      "Downloading tblib-3.0.0-py3-none-any.whl (12 kB)\n",
      "Using cached toolz-0.12.1-py3-none-any.whl (56 kB)\n",
      "Downloading zict-3.0.0-py2.py3-none-any.whl (43 kB)\n",
      "\u001b[2K   \u001b[90m━━━━━━━━━━━━━━━━━━━━━━━━━━━━━━━━━━━━━━━━\u001b[0m \u001b[32m43.3/43.3 kB\u001b[0m \u001b[31m1.3 MB/s\u001b[0m eta \u001b[36m0:00:00\u001b[0m\n",
      "\u001b[?25hDownloading zipcodes-1.2.0-py2.py3-none-any.whl (719 kB)\n",
      "\u001b[2K   \u001b[90m━━━━━━━━━━━━━━━━━━━━━━━━━━━━━━━━━━━━━━━━\u001b[0m \u001b[32m719.6/719.6 kB\u001b[0m \u001b[31m13.6 MB/s\u001b[0m eta \u001b[36m0:00:00\u001b[0m00:01\u001b[0m\n",
      "\u001b[?25hDownloading MarkupSafe-2.1.5-cp312-cp312-macosx_10_9_x86_64.whl (14 kB)\n",
      "Downloading pyarrow-17.0.0-cp312-cp312-macosx_10_15_x86_64.whl (29.0 MB)\n",
      "\u001b[2K   \u001b[90m━━━━━━━━━━━━━━━━━━━━━━━━━━━━━━━━━━━━━━━━\u001b[0m \u001b[32m29.0/29.0 MB\u001b[0m \u001b[31m31.4 MB/s\u001b[0m eta \u001b[36m0:00:00\u001b[0m00:01\u001b[0m00:01\u001b[0m\n",
      "\u001b[?25hDownloading regex-2024.5.15-cp312-cp312-macosx_10_9_x86_64.whl (282 kB)\n",
      "\u001b[2K   \u001b[90m━━━━━━━━━━━━━━━━━━━━━━━━━━━━━━━━━━━━━━━━\u001b[0m \u001b[32m282.4/282.4 kB\u001b[0m \u001b[31m9.6 MB/s\u001b[0m eta \u001b[36m0:00:00\u001b[0m\n",
      "\u001b[?25hBuilding wheels for collected packages: reverse-geocoder\n",
      "  Building wheel for reverse-geocoder (pyproject.toml) ... \u001b[?25ldone\n",
      "\u001b[?25h  Created wheel for reverse-geocoder: filename=reverse_geocoder-1.5.1-py3-none-any.whl size=2268066 sha256=4547f937081b744e16db951e79b34088e802c6dc6ed99077fd34dddc7dd2767d\n",
      "  Stored in directory: /Users/r.de.9/Library/Caches/pip/wheels/11/e1/67/6e47f0ad41ea1843d37e1fbe79c6074744a1f4aace641cf800\n",
      "Successfully built reverse-geocoder\n",
      "Installing collected packages: zipcodes, sortedcontainers, phonenumbers, phone-iso3166, zict, toolz, tblib, regex, pyyaml, pyarrow, msgpack, MarkupSafe, locket, fsspec, click, reverse-geocoder, partd, nltk, jinja2, dask, distributed, dask-expr, premium-primitives, nlp-primitives\n",
      "Successfully installed MarkupSafe-2.1.5 click-8.1.7 dask-2024.7.1 dask-expr-1.1.9 distributed-2024.7.1 fsspec-2024.6.1 jinja2-3.1.4 locket-1.0.0 msgpack-1.0.8 nlp-primitives-2.13.0 nltk-3.8.1 partd-1.4.2 phone-iso3166-0.4.1 phonenumbers-8.13.40 premium-primitives-0.1.0 pyarrow-17.0.0 pyyaml-6.0.1 regex-2024.5.15 reverse-geocoder-1.5.1 sortedcontainers-2.4.0 tblib-3.0.0 toolz-0.12.1 zict-3.0.0 zipcodes-1.2.0\n",
      "\n",
      "\u001b[1m[\u001b[0m\u001b[34;49mnotice\u001b[0m\u001b[1;39;49m]\u001b[0m\u001b[39;49m A new release of pip is available: \u001b[0m\u001b[31;49m24.0\u001b[0m\u001b[39;49m -> \u001b[0m\u001b[32;49m24.1.2\u001b[0m\n",
      "\u001b[1m[\u001b[0m\u001b[34;49mnotice\u001b[0m\u001b[1;39;49m]\u001b[0m\u001b[39;49m To update, run: \u001b[0m\u001b[32;49mpip install --upgrade pip\u001b[0m\n"
     ]
    }
   ],
   "source": [
    "!pip3 install featuretools[complete]"
   ]
  },
  {
   "cell_type": "code",
   "execution_count": 7,
   "metadata": {},
   "outputs": [
    {
     "name": "stdout",
     "output_type": "stream",
     "text": [
      "2024-07-24 10:41:06,089 featuretools - WARNING    While loading primitives via \"premium_primitives\" entry point, ignored primitive \"DiversityScore\" from \"premium_primitives.diversity_score\" because a primitive with that name already exists in \"nlp_primitives.diversity_score\"\n",
      "2024-07-24 10:41:06,091 featuretools - WARNING    While loading primitives via \"premium_primitives\" entry point, ignored primitive \"LSA\" from \"premium_primitives.lsa\" because a primitive with that name already exists in \"nlp_primitives.lsa\"\n",
      "2024-07-24 10:41:06,093 featuretools - WARNING    While loading primitives via \"premium_primitives\" entry point, ignored primitive \"MeanCharactersPerSentence\" from \"premium_primitives.mean_characters_per_sentence\" because a primitive with that name already exists in \"nlp_primitives.mean_characters_per_sentence\"\n",
      "2024-07-24 10:41:06,097 featuretools - WARNING    While loading primitives via \"premium_primitives\" entry point, ignored primitive \"NumberOfSentences\" from \"premium_primitives.number_of_sentences\" because a primitive with that name already exists in \"nlp_primitives.number_of_sentences\"\n",
      "2024-07-24 10:41:06,102 featuretools - WARNING    While loading primitives via \"premium_primitives\" entry point, ignored primitive \"PartOfSpeechCount\" from \"premium_primitives.part_of_speech_count\" because a primitive with that name already exists in \"nlp_primitives.part_of_speech_count\"\n",
      "2024-07-24 10:41:06,105 featuretools - WARNING    While loading primitives via \"premium_primitives\" entry point, ignored primitive \"PolarityScore\" from \"premium_primitives.polarity_score\" because a primitive with that name already exists in \"nlp_primitives.polarity_score\"\n",
      "2024-07-24 10:41:06,118 featuretools - WARNING    While loading primitives via \"premium_primitives\" entry point, ignored primitive \"StopwordCount\" from \"premium_primitives.stopword_count\" because a primitive with that name already exists in \"nlp_primitives.stopword_count\"\n"
     ]
    }
   ],
   "source": [
    "import featuretools as ft\n",
    "\n",
    "data = ft.demo.load_mock_customer()"
   ]
  },
  {
   "cell_type": "code",
   "execution_count": 12,
   "metadata": {},
   "outputs": [],
   "source": [
    "\n"
   ]
  },
  {
   "cell_type": "markdown",
   "metadata": {},
   "source": [
    "An EntitySet is a collection of dataframes and the relationships between them. \n",
    "\n",
    "we add the transactions dataframe to the EntitySet. In the call to add_dataframe, we specify three important parameters:\n",
    "\n",
    "The **index** parameter specifies the column that uniquely identifies rows in the dataframe.\n",
    "\n",
    "The **time_index** parameter tells Featuretools when the data was created.\n",
    "\n",
    "The **logical_types** parameter indicates that “product_id” should be interpreted as a Categorical column, even though it is just an integer in the underlying data."
   ]
  },
  {
   "cell_type": "code",
   "execution_count": 17,
   "metadata": {},
   "outputs": [
    {
     "name": "stdout",
     "output_type": "stream",
     "text": [
      "Collecting graphviz\n",
      "  Downloading graphviz-0.20.3-py3-none-any.whl.metadata (12 kB)\n",
      "Downloading graphviz-0.20.3-py3-none-any.whl (47 kB)\n",
      "\u001b[2K   \u001b[90m━━━━━━━━━━━━━━━━━━━━━━━━━━━━━━━━━━━━━━━━\u001b[0m \u001b[32m47.1/47.1 kB\u001b[0m \u001b[31m870.3 kB/s\u001b[0m eta \u001b[36m0:00:00\u001b[0m\u001b[36m0:00:01\u001b[0m\n",
      "\u001b[?25hInstalling collected packages: graphviz\n",
      "Successfully installed graphviz-0.20.3\n",
      "\n",
      "\u001b[1m[\u001b[0m\u001b[34;49mnotice\u001b[0m\u001b[1;39;49m]\u001b[0m\u001b[39;49m A new release of pip is available: \u001b[0m\u001b[31;49m24.0\u001b[0m\u001b[39;49m -> \u001b[0m\u001b[32;49m24.1.2\u001b[0m\n",
      "\u001b[1m[\u001b[0m\u001b[34;49mnotice\u001b[0m\u001b[1;39;49m]\u001b[0m\u001b[39;49m To update, run: \u001b[0m\u001b[32;49mpip install --upgrade pip\u001b[0m\n"
     ]
    }
   ],
   "source": [
    "!pip3 install graphviz"
   ]
  },
  {
   "cell_type": "code",
   "execution_count": 35,
   "metadata": {},
   "outputs": [
    {
     "name": "stderr",
     "output_type": "stream",
     "text": [
      "/Users/r.de.9/mlearn/venv/lib/python3.12/site-packages/woodwork/type_sys/utils.py:33: UserWarning: Could not infer format, so each element will be parsed individually, falling back to `dateutil`. To ensure parsing is consistent and as-expected, please specify a format.\n",
      "  pd.to_datetime(\n",
      "/Users/r.de.9/mlearn/venv/lib/python3.12/site-packages/woodwork/type_sys/utils.py:33: UserWarning: Could not infer format, so each element will be parsed individually, falling back to `dateutil`. To ensure parsing is consistent and as-expected, please specify a format.\n",
      "  pd.to_datetime(\n",
      "/Users/r.de.9/mlearn/venv/lib/python3.12/site-packages/featuretools/entityset/entityset.py:724: UserWarning: A Woodwork-initialized DataFrame was provided, so the following parameters were ignored: index\n",
      "  warnings.warn(\n"
     ]
    },
    {
     "data": {
      "text/plain": [
       "Entityset: customer_data\n",
       "  DataFrames:\n",
       "    transactions [Rows: 500, Columns: 11]\n",
       "    products [Rows: 5, Columns: 2]\n",
       "  Relationships:\n",
       "    No relationships"
      ]
     },
     "execution_count": 35,
     "metadata": {},
     "output_type": "execute_result"
    }
   ],
   "source": [
    "from woodwork.logical_types import Categorical, PostalCode\n",
    "\n",
    "es = ft.EntitySet(id=\"customer_data\")\n",
    "\n",
    "transactions_df = data[\"transactions\"].merge(data[\"sessions\"]).merge(data[\"customers\"])\n",
    "products_df = data[\"products\"]\n",
    "\n",
    "es = es.add_dataframe(\n",
    "    dataframe_name=\"transactions\",\n",
    "    dataframe=transactions_df,\n",
    "    index=\"transaction_id\",\n",
    "    time_index=\"transaction_time\",\n",
    "    logical_types={\n",
    "        \"product_id\": Categorical,\n",
    "        \"zip_code\": PostalCode,\n",
    "    },\n",
    ")\n",
    "\n",
    "es = es.add_dataframe(\n",
    "    dataframe_name=\"products\", \n",
    "    dataframe=products_df,\n",
    "    index=\"product_id\"\n",
    ")\n",
    "\n",
    "es"
   ]
  },
  {
   "cell_type": "code",
   "execution_count": 36,
   "metadata": {},
   "outputs": [
    {
     "data": {
      "text/html": [
       "<table border=\"1\" class=\"dataframe\">\n",
       "  <thead>\n",
       "    <tr style=\"text-align: right;\">\n",
       "      <th></th>\n",
       "      <th>Logical Type</th>\n",
       "      <th>Semantic Tag(s)</th>\n",
       "    </tr>\n",
       "    <tr>\n",
       "      <th>Column</th>\n",
       "      <th></th>\n",
       "      <th></th>\n",
       "    </tr>\n",
       "  </thead>\n",
       "  <tbody>\n",
       "    <tr>\n",
       "      <th>transaction_id</th>\n",
       "      <td>Integer</td>\n",
       "      <td>['index']</td>\n",
       "    </tr>\n",
       "    <tr>\n",
       "      <th>session_id</th>\n",
       "      <td>Integer</td>\n",
       "      <td>['numeric']</td>\n",
       "    </tr>\n",
       "    <tr>\n",
       "      <th>transaction_time</th>\n",
       "      <td>Datetime</td>\n",
       "      <td>['time_index']</td>\n",
       "    </tr>\n",
       "    <tr>\n",
       "      <th>product_id</th>\n",
       "      <td>Categorical</td>\n",
       "      <td>['category']</td>\n",
       "    </tr>\n",
       "    <tr>\n",
       "      <th>amount</th>\n",
       "      <td>Double</td>\n",
       "      <td>['numeric']</td>\n",
       "    </tr>\n",
       "    <tr>\n",
       "      <th>customer_id</th>\n",
       "      <td>Integer</td>\n",
       "      <td>['numeric']</td>\n",
       "    </tr>\n",
       "    <tr>\n",
       "      <th>device</th>\n",
       "      <td>Categorical</td>\n",
       "      <td>['category']</td>\n",
       "    </tr>\n",
       "    <tr>\n",
       "      <th>session_start</th>\n",
       "      <td>Datetime</td>\n",
       "      <td>[]</td>\n",
       "    </tr>\n",
       "    <tr>\n",
       "      <th>zip_code</th>\n",
       "      <td>PostalCode</td>\n",
       "      <td>['category']</td>\n",
       "    </tr>\n",
       "    <tr>\n",
       "      <th>join_date</th>\n",
       "      <td>Datetime</td>\n",
       "      <td>[]</td>\n",
       "    </tr>\n",
       "    <tr>\n",
       "      <th>birthday</th>\n",
       "      <td>Datetime</td>\n",
       "      <td>[]</td>\n",
       "    </tr>\n",
       "  </tbody>\n",
       "</table>"
      ],
      "text/plain": [
       "                 Logical Type Semantic Tag(s)\n",
       "Column                                       \n",
       "transaction_id        Integer       ['index']\n",
       "session_id            Integer     ['numeric']\n",
       "transaction_time     Datetime  ['time_index']\n",
       "product_id        Categorical    ['category']\n",
       "amount                 Double     ['numeric']\n",
       "customer_id           Integer     ['numeric']\n",
       "device            Categorical    ['category']\n",
       "session_start        Datetime              []\n",
       "zip_code           PostalCode    ['category']\n",
       "join_date            Datetime              []\n",
       "birthday             Datetime              []"
      ]
     },
     "execution_count": 36,
     "metadata": {},
     "output_type": "execute_result"
    }
   ],
   "source": [
    "es[\"transactions\"].ww.schema"
   ]
  },
  {
   "cell_type": "markdown",
   "metadata": {},
   "source": [
    "## Adding a Relationship\n",
    "We want to relate these two dataframes by the columns called “product_id” in each dataframe. \n",
    "Each **product has multiple transactions associated with it, so it is called the parent dataframe**, while the **transactions dataframe is known as the child dataframe**. When specifying relationships, we need four parameters\n",
    "- parent dataframe name\n",
    "- parent column name \n",
    "- child dataframe name\n",
    "- child column name\n",
    "  \n",
    "Note that each relationship must denote a **one-to-many relationship** rather than a relationship which is **one-to-one or many-to-many**."
   ]
  },
  {
   "cell_type": "code",
   "execution_count": 37,
   "metadata": {},
   "outputs": [
    {
     "data": {
      "image/svg+xml": [
       "<?xml version=\"1.0\" encoding=\"UTF-8\" standalone=\"no\"?>\n",
       "<!DOCTYPE svg PUBLIC \"-//W3C//DTD SVG 1.1//EN\"\n",
       " \"http://www.w3.org/Graphics/SVG/1.1/DTD/svg11.dtd\">\n",
       "<!-- Generated by graphviz version 12.0.0 (20240704.0754)\n",
       " -->\n",
       "<!-- Title: customer_data Pages: 1 -->\n",
       "<svg width=\"448pt\" height=\"223pt\"\n",
       " viewBox=\"0.00 0.00 448.38 223.00\" xmlns=\"http://www.w3.org/2000/svg\" xmlns:xlink=\"http://www.w3.org/1999/xlink\">\n",
       "<g id=\"graph0\" class=\"graph\" transform=\"scale(1 1) rotate(0) translate(4 219)\">\n",
       "<title>customer_data</title>\n",
       "<polygon fill=\"white\" stroke=\"none\" points=\"-4,4 -4,-219 444.38,-219 444.38,4 -4,4\"/>\n",
       "<!-- transactions -->\n",
       "<g id=\"node1\" class=\"node\">\n",
       "<title>transactions</title>\n",
       "<polygon fill=\"none\" stroke=\"black\" points=\"0,-0.5 0,-214.5 237.25,-214.5 237.25,-0.5 0,-0.5\"/>\n",
       "<text text-anchor=\"middle\" x=\"118.62\" y=\"-197.2\" font-family=\"Times,serif\" font-size=\"14.00\">transactions (500 rows)</text>\n",
       "<polyline fill=\"none\" stroke=\"black\" points=\"0,-190 237.25,-190\"/>\n",
       "<text text-anchor=\"start\" x=\"8\" y=\"-172.7\" font-family=\"Times,serif\" font-size=\"14.00\">transaction_id : Integer; index</text>\n",
       "<text text-anchor=\"start\" x=\"8\" y=\"-156.2\" font-family=\"Times,serif\" font-size=\"14.00\">session_id : Integer</text>\n",
       "<text text-anchor=\"start\" x=\"8\" y=\"-139.7\" font-family=\"Times,serif\" font-size=\"14.00\">transaction_time : Datetime; time_index</text>\n",
       "<text text-anchor=\"start\" x=\"8\" y=\"-123.2\" font-family=\"Times,serif\" font-size=\"14.00\">product_id : Categorical</text>\n",
       "<text text-anchor=\"start\" x=\"8\" y=\"-106.7\" font-family=\"Times,serif\" font-size=\"14.00\">amount : Double</text>\n",
       "<text text-anchor=\"start\" x=\"8\" y=\"-90.2\" font-family=\"Times,serif\" font-size=\"14.00\">customer_id : Integer</text>\n",
       "<text text-anchor=\"start\" x=\"8\" y=\"-73.7\" font-family=\"Times,serif\" font-size=\"14.00\">device : Categorical</text>\n",
       "<text text-anchor=\"start\" x=\"8\" y=\"-57.2\" font-family=\"Times,serif\" font-size=\"14.00\">session_start : Datetime</text>\n",
       "<text text-anchor=\"start\" x=\"8\" y=\"-40.7\" font-family=\"Times,serif\" font-size=\"14.00\">zip_code : PostalCode</text>\n",
       "<text text-anchor=\"start\" x=\"8\" y=\"-24.2\" font-family=\"Times,serif\" font-size=\"14.00\">join_date : Datetime</text>\n",
       "<text text-anchor=\"start\" x=\"8\" y=\"-7.7\" font-family=\"Times,serif\" font-size=\"14.00\">birthday : Datetime</text>\n",
       "</g>\n",
       "<!-- products -->\n",
       "<g id=\"node2\" class=\"node\">\n",
       "<title>products</title>\n",
       "<polygon fill=\"none\" stroke=\"black\" points=\"254.88,-74.75 254.88,-140.25 440.38,-140.25 440.38,-74.75 254.88,-74.75\"/>\n",
       "<text text-anchor=\"middle\" x=\"347.62\" y=\"-122.95\" font-family=\"Times,serif\" font-size=\"14.00\">products (5 rows)</text>\n",
       "<polyline fill=\"none\" stroke=\"black\" points=\"254.88,-115.75 440.38,-115.75\"/>\n",
       "<text text-anchor=\"start\" x=\"262.88\" y=\"-98.45\" font-family=\"Times,serif\" font-size=\"14.00\">product_id : Categorical; index</text>\n",
       "<text text-anchor=\"start\" x=\"262.88\" y=\"-81.95\" font-family=\"Times,serif\" font-size=\"14.00\">brand : Unknown</text>\n",
       "</g>\n",
       "</g>\n",
       "</svg>\n"
      ],
      "text/plain": [
       "<graphviz.graphs.Digraph at 0x12d185970>"
      ]
     },
     "execution_count": 37,
     "metadata": {},
     "output_type": "execute_result"
    }
   ],
   "source": [
    "es.plot()"
   ]
  },
  {
   "cell_type": "code",
   "execution_count": 38,
   "metadata": {},
   "outputs": [
    {
     "data": {
      "text/plain": [
       "Entityset: customer_data\n",
       "  DataFrames:\n",
       "    transactions [Rows: 500, Columns: 11]\n",
       "    products [Rows: 5, Columns: 2]\n",
       "  Relationships:\n",
       "    transactions.product_id -> products.product_id"
      ]
     },
     "execution_count": 38,
     "metadata": {},
     "output_type": "execute_result"
    }
   ],
   "source": [
    "es.add_relationship(\"products\", \"product_id\", \"transactions\", \"product_id\")"
   ]
  },
  {
   "cell_type": "code",
   "execution_count": 39,
   "metadata": {},
   "outputs": [
    {
     "data": {
      "image/svg+xml": [
       "<?xml version=\"1.0\" encoding=\"UTF-8\" standalone=\"no\"?>\n",
       "<!DOCTYPE svg PUBLIC \"-//W3C//DTD SVG 1.1//EN\"\n",
       " \"http://www.w3.org/Graphics/SVG/1.1/DTD/svg11.dtd\">\n",
       "<!-- Generated by graphviz version 12.0.0 (20240704.0754)\n",
       " -->\n",
       "<!-- Title: customer_data Pages: 1 -->\n",
       "<svg width=\"245pt\" height=\"326pt\"\n",
       " viewBox=\"0.00 0.00 245.25 325.50\" xmlns=\"http://www.w3.org/2000/svg\" xmlns:xlink=\"http://www.w3.org/1999/xlink\">\n",
       "<g id=\"graph0\" class=\"graph\" transform=\"scale(1 1) rotate(0) translate(4 321.5)\">\n",
       "<title>customer_data</title>\n",
       "<polygon fill=\"white\" stroke=\"none\" points=\"-4,4 -4,-321.5 241.25,-321.5 241.25,4 -4,4\"/>\n",
       "<!-- transactions -->\n",
       "<g id=\"node1\" class=\"node\">\n",
       "<title>transactions</title>\n",
       "<polygon fill=\"none\" stroke=\"black\" points=\"0,-103 0,-317 237.25,-317 237.25,-103 0,-103\"/>\n",
       "<text text-anchor=\"middle\" x=\"118.62\" y=\"-299.7\" font-family=\"Times,serif\" font-size=\"14.00\">transactions (500 rows)</text>\n",
       "<polyline fill=\"none\" stroke=\"black\" points=\"0,-292.5 237.25,-292.5\"/>\n",
       "<text text-anchor=\"start\" x=\"8\" y=\"-275.2\" font-family=\"Times,serif\" font-size=\"14.00\">transaction_id : Integer; index</text>\n",
       "<text text-anchor=\"start\" x=\"8\" y=\"-258.7\" font-family=\"Times,serif\" font-size=\"14.00\">session_id : Integer</text>\n",
       "<text text-anchor=\"start\" x=\"8\" y=\"-242.2\" font-family=\"Times,serif\" font-size=\"14.00\">transaction_time : Datetime; time_index</text>\n",
       "<text text-anchor=\"start\" x=\"8\" y=\"-225.7\" font-family=\"Times,serif\" font-size=\"14.00\">product_id : Categorical; foreign_key</text>\n",
       "<text text-anchor=\"start\" x=\"8\" y=\"-209.2\" font-family=\"Times,serif\" font-size=\"14.00\">amount : Double</text>\n",
       "<text text-anchor=\"start\" x=\"8\" y=\"-192.7\" font-family=\"Times,serif\" font-size=\"14.00\">customer_id : Integer</text>\n",
       "<text text-anchor=\"start\" x=\"8\" y=\"-176.2\" font-family=\"Times,serif\" font-size=\"14.00\">device : Categorical</text>\n",
       "<text text-anchor=\"start\" x=\"8\" y=\"-159.7\" font-family=\"Times,serif\" font-size=\"14.00\">session_start : Datetime</text>\n",
       "<text text-anchor=\"start\" x=\"8\" y=\"-143.2\" font-family=\"Times,serif\" font-size=\"14.00\">zip_code : PostalCode</text>\n",
       "<text text-anchor=\"start\" x=\"8\" y=\"-126.7\" font-family=\"Times,serif\" font-size=\"14.00\">join_date : Datetime</text>\n",
       "<text text-anchor=\"start\" x=\"8\" y=\"-110.2\" font-family=\"Times,serif\" font-size=\"14.00\">birthday : Datetime</text>\n",
       "</g>\n",
       "<!-- products -->\n",
       "<g id=\"node2\" class=\"node\">\n",
       "<title>products</title>\n",
       "<polygon fill=\"none\" stroke=\"black\" points=\"25.88,-0.5 25.88,-66 211.38,-66 211.38,-0.5 25.88,-0.5\"/>\n",
       "<text text-anchor=\"middle\" x=\"118.62\" y=\"-48.7\" font-family=\"Times,serif\" font-size=\"14.00\">products (5 rows)</text>\n",
       "<polyline fill=\"none\" stroke=\"black\" points=\"25.88,-41.5 211.38,-41.5\"/>\n",
       "<text text-anchor=\"start\" x=\"33.88\" y=\"-24.2\" font-family=\"Times,serif\" font-size=\"14.00\">product_id : Categorical; index</text>\n",
       "<text text-anchor=\"start\" x=\"33.88\" y=\"-7.7\" font-family=\"Times,serif\" font-size=\"14.00\">brand : Unknown</text>\n",
       "</g>\n",
       "<!-- transactions&#45;&gt;products -->\n",
       "<g id=\"edge1\" class=\"edge\">\n",
       "<title>transactions&#45;&gt;products</title>\n",
       "<path fill=\"none\" stroke=\"black\" d=\"M118.62,-102.6C118.62,-102.6 118.62,-78.01 118.62,-78.01\"/>\n",
       "<polygon fill=\"black\" stroke=\"black\" points=\"122.13,-78.01 118.63,-68.01 115.13,-78.01 122.13,-78.01\"/>\n",
       "<text text-anchor=\"middle\" x=\"89.38\" y=\"-77.01\" font-family=\"Times,serif\" font-size=\"14.00\">product_id</text>\n",
       "</g>\n",
       "</g>\n",
       "</svg>\n"
      ],
      "text/plain": [
       "<graphviz.graphs.Digraph at 0x11b865a90>"
      ]
     },
     "execution_count": 39,
     "metadata": {},
     "output_type": "execute_result"
    }
   ],
   "source": [
    "es.plot()"
   ]
  },
  {
   "cell_type": "code",
   "execution_count": null,
   "metadata": {},
   "outputs": [],
   "source": []
  }
 ],
 "metadata": {
  "kernelspec": {
   "display_name": "venv",
   "language": "python",
   "name": "python3"
  },
  "language_info": {
   "codemirror_mode": {
    "name": "ipython",
    "version": 3
   },
   "file_extension": ".py",
   "mimetype": "text/x-python",
   "name": "python",
   "nbconvert_exporter": "python",
   "pygments_lexer": "ipython3",
   "version": "3.12.2"
  }
 },
 "nbformat": 4,
 "nbformat_minor": 2
}
