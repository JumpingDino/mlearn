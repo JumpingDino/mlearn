{
 "cells": [
  {
   "cell_type": "code",
   "execution_count": 3,
   "metadata": {},
   "outputs": [],
   "source": [
    "from PIL import Image \n",
    "import numpy as np       \n",
    "  \n",
    "# Opening the image and converting  \n",
    "# it to RGB color mode \n",
    "# IMAGE_PATH => Path to the image \n",
    "\n",
    "for i in range(1,13):\n",
    "    img = Image.open(f\"input/{i}_input.png\").convert('RGB') \n",
    "  \n",
    "    # Extracting the image data & \n",
    "    # creating an numpy array out of it \n",
    "    img_arr = np.array(img) \n",
    "    \n",
    "    img_arr = img_arr[:,320:-320,:]\n",
    "    \n",
    "    # Creating an image out of the previously modified array \n",
    "    img = Image.fromarray(img_arr) \n",
    "\n",
    "    img.save(f\"output/{i}_output.png\")\n",
    "  \n",
    "# Displaying the image \n",
    "#img.show() "
   ]
  }
 ],
 "metadata": {
  "kernelspec": {
   "display_name": "venv",
   "language": "python",
   "name": "python3"
  },
  "language_info": {
   "codemirror_mode": {
    "name": "ipython",
    "version": 3
   },
   "file_extension": ".py",
   "mimetype": "text/x-python",
   "name": "python",
   "nbconvert_exporter": "python",
   "pygments_lexer": "ipython3",
   "version": "3.12.2"
  }
 },
 "nbformat": 4,
 "nbformat_minor": 2
}
